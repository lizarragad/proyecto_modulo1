{
 "cells": [
  {
   "cell_type": "markdown",
   "metadata": {},
   "source": [
    "# PROYECTO MÓDULO 1\n",
    "\n",
    "## Optimización Cementera"
   ]
  },
  {
   "cell_type": "markdown",
   "metadata": {},
   "source": [
    "## Objetivos\n",
    "\n",
    "**CEMENTERA**\n",
    "\n",
    "Existe una cementera que cuenta con 4 plantas(A, B, C y D), para producir unidades(costales) de 2 clases diferentes de cementos(clase 1 y 2), cada una de estas plantas cuentan con equipo, personal, materias primas y límites de producción de unidades de cemento diferentes por lo tanto la utilidad que obtienen de cada clase de cemento es diferente, además cada una tiene un limite de producción diferente.\n",
    "\n",
    "* La planta A obtiene una utilidad por cada unidad de cemento producido de clase:\n",
    "  * Clase 1 de \\$50.\n",
    "  * Clase 2 de \\$75.\n",
    "  * Y tiene un limite de producción de 1050 unidades por día.\n",
    "  \n",
    "* La planta B obtiene una utilidad por cada unidad de cemento producido de clase:\n",
    "  * Clase 1 de \\$40.\n",
    "  * Clase 2 de \\$95.\n",
    "  * Y tiene un limite de producción de 600 unidades por día.\n",
    "\n",
    "* La planta C obtiene una utilidad por cada unidad de cemento producido de clase:\n",
    "  * Clase 1 de \\$65.\n",
    "  * Clase 2 de \\$55.\n",
    "  * Y tiene un limite de producción de 950 unidades por día.\n",
    "  \n",
    "* La planta D obtiene una utilidad por cada unidad de cemento producido de clase:\n",
    "  * Clase 1 de \\$60.\n",
    "  * Clase 2 de \\$65.\n",
    "  * Y tiene un limite de producción de 450 unidades por día.\n",
    "  \n",
    "Considerando que la demanda diaria que existe de cemento es de: cemento clase 1; 1750 unidades diarias y cemento clase 2; 950 unidades diarias. \n",
    "\n",
    "**¿Cúantas unidades de cemento de cada clase debe producir cada planta  al día, para obtener la utilidad máxima posible?**\n",
    "\n",
    "\n",
    "**Objetivo Principal**\n",
    "\n",
    "* Obtener las ganancias máximas en la venta de cementos.\n",
    "\n",
    "**Objetivo Específicos**\n",
    "\n",
    "* Conocer la cantidad de cemento a fabricar de cada clase en cada planta, de acuerdo a la demanda y limitantes de producción."
   ]
  },
  {
   "cell_type": "markdown",
   "metadata": {},
   "source": [
    "## Modelo del problema\n",
    "\n",
    "**Función a Optimizar**\n",
    "\n",
    "$$50x_1 + 75x_2 + 40x_3 + 95x_4 + 65x_5 + 55x_6 + 60x_7 + 65x_8$$\n",
    "\n",
    "*Buscamos la cantidad optima a producir diariamente de cada clase de cemento por cada una de las planas para obtener las máximas ganancias posibles.*\n",
    "\n",
    "Donde:\n",
    "\n",
    "- $x_1$ unidades de cemento clase 1 producido por la planta A.\n",
    "- $x_2$ unidades de cemento clase 2 producido por la planta A.\n",
    "- $x_3$ unidades de cemento clase 1 producido por la planta B.\n",
    "- $x_4$ unidades de cemento clase 2 producido por la planta B.\n",
    "- $x_5$ unidades de cemento clase 1 producido por la planta C.\n",
    "- $x_6$ unidades de cemento clase 2 producido por la planta C.\n",
    "- $x_7$ unidades de cemento clase 1 producido por la planta D.\n",
    "- $x_8$ unidades de cemento clase 2 producido por la planta D.\n",
    "\n",
    "*Definimos nuestras variables de decisión.*\n",
    "\n",
    "**Restricciones:**\n",
    "\n",
    "- $x_1 + x_2 \\leq 1050$\n",
    "- $x_3 + x_4 \\leq 600$\n",
    "- $x_5 + x_6 \\leq 950$\n",
    "- $x_7 + x_8 \\leq 450$\n",
    "- $x_1 + x_3 + x_5 + x_7 \\leq 1750$\n",
    "- $x_2 + x_4 + x_6 + x_8 \\leq 950$\n",
    "\n",
    "*Establecemos nuestras restricciones dadas por el limite de producción de cada planta y la demanda de cada clase de cemento.*"
   ]
  },
  {
   "cell_type": "markdown",
   "metadata": {},
   "source": [
    "## Solución del problema"
   ]
  },
  {
   "cell_type": "code",
   "execution_count": 1,
   "metadata": {},
   "outputs": [],
   "source": [
    "# Importamos todas las librerías que necesitaremos\n",
    "import numpy as np\n",
    "import scipy.optimize as opt\n",
    "import matplotlib.pyplot as plt\n",
    "%matplotlib inline"
   ]
  },
  {
   "cell_type": "code",
   "execution_count": 2,
   "metadata": {},
   "outputs": [],
   "source": [
    "# Crearmos las mátrices para resolver el problema\n",
    "c = np.array([-50,-75,-40,-95,-65,-55,-60,-65])\n",
    "\n",
    "A = np.array([[1,1,0,0,0,0,0,0],[0,0,1,1,0,0,0,0],[0,0,0,0,1,1,0,0],[0,0,0,0,0,0,1,1],[1,0,1,0,1,0,1,0],[0,1,0,1,0,1,0,1]])\n",
    "\n",
    "b = np.array([1050,600,950,450,1750,950])"
   ]
  },
  {
   "cell_type": "code",
   "execution_count": 3,
   "metadata": {},
   "outputs": [],
   "source": [
    "# Resolvemos el problema con la función linprog\n",
    "solucion = opt.linprog(c,A,b)"
   ]
  },
  {
   "cell_type": "code",
   "execution_count": 4,
   "metadata": {},
   "outputs": [
    {
     "data": {
      "text/plain": [
       "     con: array([], dtype=float64)\n",
       "     fun: -189500.0\n",
       " message: 'Optimization terminated successfully.'\n",
       "     nit: 8\n",
       "   slack: array([350.,   0.,   0.,   0.,   0.,   0.])\n",
       "  status: 0\n",
       " success: True\n",
       "       x: array([350., 350.,   0., 600., 950.,   0., 450.,   0.])"
      ]
     },
     "execution_count": 4,
     "metadata": {},
     "output_type": "execute_result"
    }
   ],
   "source": [
    "solucion"
   ]
  },
  {
   "cell_type": "code",
   "execution_count": 5,
   "metadata": {},
   "outputs": [
    {
     "data": {
      "text/plain": [
       "array([350., 350.,   0., 600., 950.,   0., 450.,   0.])"
      ]
     },
     "execution_count": 5,
     "metadata": {},
     "output_type": "execute_result"
    }
   ],
   "source": [
    "solucion.x"
   ]
  },
  {
   "cell_type": "code",
   "execution_count": 6,
   "metadata": {},
   "outputs": [],
   "source": [
    "import pandas as pd"
   ]
  },
  {
   "cell_type": "code",
   "execution_count": 12,
   "metadata": {},
   "outputs": [
    {
     "data": {
      "text/html": [
       "<div>\n",
       "<style scoped>\n",
       "    .dataframe tbody tr th:only-of-type {\n",
       "        vertical-align: middle;\n",
       "    }\n",
       "\n",
       "    .dataframe tbody tr th {\n",
       "        vertical-align: top;\n",
       "    }\n",
       "\n",
       "    .dataframe thead th {\n",
       "        text-align: right;\n",
       "    }\n",
       "</style>\n",
       "<table border=\"1\" class=\"dataframe\">\n",
       "  <thead>\n",
       "    <tr style=\"text-align: right;\">\n",
       "      <th></th>\n",
       "      <th>Planta</th>\n",
       "      <th>A</th>\n",
       "      <th>B</th>\n",
       "      <th>C</th>\n",
       "      <th>D</th>\n",
       "      <th>Demanda(unidades)</th>\n",
       "    </tr>\n",
       "  </thead>\n",
       "  <tbody>\n",
       "    <tr>\n",
       "      <th>0</th>\n",
       "      <td>Clase 1</td>\n",
       "      <td>$50</td>\n",
       "      <td>$40</td>\n",
       "      <td>$65</td>\n",
       "      <td>$60</td>\n",
       "      <td>1750 u</td>\n",
       "    </tr>\n",
       "    <tr>\n",
       "      <th>1</th>\n",
       "      <td>Clase 2</td>\n",
       "      <td>$75</td>\n",
       "      <td>$95</td>\n",
       "      <td>$55</td>\n",
       "      <td>$65</td>\n",
       "      <td>950 u</td>\n",
       "    </tr>\n",
       "    <tr>\n",
       "      <th>2</th>\n",
       "      <td>Limite de producción(unidades)</td>\n",
       "      <td>1050 u</td>\n",
       "      <td>600 u</td>\n",
       "      <td>950 u</td>\n",
       "      <td>450 u</td>\n",
       "      <td>.</td>\n",
       "    </tr>\n",
       "  </tbody>\n",
       "</table>\n",
       "</div>"
      ],
      "text/plain": [
       "                           Planta       A      B      C      D  \\\n",
       "0                         Clase 1     $50    $40    $65    $60   \n",
       "1                         Clase 2     $75    $95    $55    $65   \n",
       "2  Limite de producción(unidades)  1050 u  600 u  950 u  450 u   \n",
       "\n",
       "   Demanda(unidades)  \n",
       "0             1750 u  \n",
       "1              950 u  \n",
       "2                  .  "
      ]
     },
     "execution_count": 12,
     "metadata": {},
     "output_type": "execute_result"
    }
   ],
   "source": [
    "file_name = 'proyecto_cementera.csv'\n",
    "data = pd.read_csv(file_name)\n",
    "data"
   ]
  },
  {
   "cell_type": "markdown",
   "metadata": {},
   "source": [
    "### Conclusión\n",
    "\n",
    "*Ahora podemos concluir que la producción optima de cada clase de cemento por parte de cada plante es de:*\n",
    "\n",
    "- Planta A Clase 1: 350 unidades.\n",
    "- Planta A Clase 2: 350 unidades.\n",
    "\n",
    "\n",
    "- Planta B Clase 1: 0   unidades.\n",
    "- Planta B Clase 2: 600 unidades.\n",
    "\n",
    "\n",
    "- Planta C Clase 1: 950 unidades.\n",
    "- Planta C Clase 2: 0   unidades.\n",
    "\n",
    "\n",
    "- Planta D Clase 1: 450 unidades.\n",
    "- Planta D Clase 2: 0   unidades.\n",
    "\n",
    "\n",
    "*Y a su vez esto cumple con las restricciones de producción*\n",
    "\n",
    "- Total de unidades producidas Planta A :  700 unidades.\n",
    "- Limite de unidades a producir Planta A: 1050 unidades.\n",
    "\n",
    "\n",
    "- Total de unidades producidas Planta B : 600 unidades.\n",
    "- Limite de unidades a producir Planta B: 600 unidades.\n",
    "\n",
    "\n",
    "- Total de unidades producidas Planta C : 950 unidades.\n",
    "- Limite de unidades a producir Planta C: 950 unidades.\n",
    "\n",
    "\n",
    "- Total de unidades producidas Planta D:  450 unidades.\n",
    "- Limite de unidades a producir Planta D: 450 unidades.\n",
    "\n",
    "\n",
    "*Y también con la restricción de demanda*\n",
    "\n",
    "- Total de cemento clase 1 producido por todas las plantas diariamente: 1720 unidades.\n",
    "- Limite de cemento clase 1 a producir diariamente                    : 1750 unidades.\n",
    "\n",
    "\n",
    "- Total de cemento clase 2 producido por todas las plantas diariamente: 950  unidades.\n",
    "- Limite de cemento clase 2 a producir diariamente                    : 950  unidades.\n",
    "\n",
    "*Finalmente con toda esta producción obtuvimos una utilidad total diaria de:*\n",
    "\n",
    "- **$189,500**"
   ]
  },
  {
   "cell_type": "markdown",
   "metadata": {},
   "source": [
    "### Referencia\n",
    "\n",
    "\n",
    "- Home | CEMEX Mexico. (2019). Retrieved 1 October 2019, from https://www.cemexmexico.com/\n",
    "\n",
    "- Cemento. (2019). Retrieved 1 October 2019, from https://es.wikipedia.org/wiki/Cemento"
   ]
  }
 ],
 "metadata": {
  "kernelspec": {
   "display_name": "Python 3",
   "language": "python",
   "name": "python3"
  },
  "language_info": {
   "codemirror_mode": {
    "name": "ipython",
    "version": 3
   },
   "file_extension": ".py",
   "mimetype": "text/x-python",
   "name": "python",
   "nbconvert_exporter": "python",
   "pygments_lexer": "ipython3",
   "version": "3.7.3"
  }
 },
 "nbformat": 4,
 "nbformat_minor": 2
}
