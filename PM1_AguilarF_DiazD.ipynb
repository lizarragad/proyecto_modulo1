{
 "cells": [
  {
   "cell_type": "markdown",
   "metadata": {},
   "source": [
    "# PROYECTO MÓDULO 1\n",
    "\n",
    "## Optimización Cementera"
   ]
  },
  {
   "cell_type": "markdown",
   "metadata": {},
   "source": [
    "## Objetivos\n",
    "\n",
    "**CEMENTERA**\n",
    "\n",
    "Existe una cementera que cuenta con 4 plantas(A, B, C y D), para producir unidades(costales) de 2 clases diferentes de cementos(clase 1 y 2), cada una de estas plantas cuentan con equipo, personal, materias primas y límites de producción de unidades de cemento diferentes por lo tanto la utilidad que obtienen de cada clase de cemento es diferente, además cada una tiene un limite de producción diferente.\n",
    "\n",
    "* La planta A obtiene una utilidad por cada unidad de cemento producido de clase:\n",
    "  * Clase 1 de \\$50.\n",
    "  * Clase 2 de \\$75.\n",
    "  * Y tiene un limite de producción de 1050 unidades por día.\n",
    "  \n",
    "* La planta B obtiene una utilidad por cada unidad de cemento producido de clase:\n",
    "  * Clase 1 de \\$40.\n",
    "  * Clase 2 de \\$95.\n",
    "  * Y tiene un limite de producción de 600 unidades por día.\n",
    "\n",
    "* La planta C obtiene una utilidad por cada unidad de cemento producido de clase:\n",
    "  * Clase 1 de \\$65.\n",
    "  * Clase 2 de \\$55.\n",
    "  * Y tiene un limite de producción de 950 unidades por día.\n",
    "  \n",
    "* La planta D obtiene una utilidad por cada unidad de cemento producido de clase:\n",
    "  * Clase 1 de \\$60.\n",
    "  * Clase 2 de \\$65.\n",
    "  * Y tiene un limite de producción de 450 unidades por día.\n",
    "  \n",
    "Considerando que la demanda diaria que existe de cemento es de: cemento clase 1; 1750 unidades diarias y cemento clase 2; 950 unidades diarias. \n",
    "\n",
    "**¿Cúantas unidades de cemento de cada clase debe producir cada planta para obtener la utilidad máxima posible?**\n",
    "\n",
    "\n",
    "**Objetivo Principal**\n",
    "\n",
    "* Obtener las ganancias máximas en la venta de cementos.\n",
    "\n",
    "**Objetivo Específicos**\n",
    "\n",
    "* Conocer la cantidad de cemento a fabricar de cada clase en cada planta, de acuerdo a la demanda y limitantes de producción."
   ]
  },
  {
   "cell_type": "markdown",
   "metadata": {},
   "source": [
    "## Modelo del problema\n",
    "\n",
    "**Función a Optimizar**\n",
    "\n",
    "$$50x_1 + 75x_2 + 40x_3 + 95x_4 + 65x_5 + 55x_6 + 60x_7 + 65x_8$$\n",
    "\n",
    "*Buscamos la cantidad optima a producir diariamente de cada clase de cemento por cada una de las planas para obtener las máximas ganancias posibles.*\n",
    "\n",
    "Donde:\n",
    "\n",
    "- $x_1$ unidades de cemento clase 1 producido por la planta A.\n",
    "- $x_2$ unidades de cemento clase 2 producido por la planta A.\n",
    "- $x_3$ unidades de cemento clase 1 producido por la planta B.\n",
    "- $x_4$ unidades de cemento clase 2 producido por la planta B.\n",
    "- $x_5$ unidades de cemento clase 1 producido por la planta C.\n",
    "- $x_6$ unidades de cemento clase 2 producido por la planta C.\n",
    "- $x_7$ unidades de cemento clase 1 producido por la planta D.\n",
    "- $x_8$ unidades de cemento clase 2 producido por la planta D.\n",
    "\n",
    "*Definimos nuestras variables de decisión.*\n",
    "\n",
    "**Restricciones:**\n",
    "\n",
    "- $x_1 + x_2 \\leq 1050$\n",
    "- $x_3 + x_4 \\leq 600$\n",
    "- $x_5 + x_6 \\leq 950$\n",
    "- $x_7 + x_8 \\leq 450$\n",
    "- $x_1 + x_3 + x_5 + x_7 \\leq 1750$\n",
    "- $x_2 + x_4 + x_6 + x_8 \\leq 950$\n",
    "\n",
    "*Establecemos nuestras restricciones dadas por el limite de producción de cada planta y la demanda de cada clase de cemento.*"
   ]
  },
  {
   "cell_type": "markdown",
   "metadata": {},
   "source": [
    "## Solución del problema"
   ]
  },
  {
   "cell_type": "code",
   "execution_count": 1,
   "metadata": {},
   "outputs": [],
   "source": [
    "# Importamos todas las librerías que necesitaremos\n",
    "import numpy as np\n",
    "import scipy.optimize as opt\n",
    "import matplotlib.pyplot as plt\n",
    "%matplotlib inline"
   ]
  },
  {
   "cell_type": "code",
   "execution_count": 2,
   "metadata": {},
   "outputs": [],
   "source": [
    "# Crearmos las mátrices para resolver el problema\n",
    "c = np.array([-50,-75,-40,-95,-65,-55,-60,-65])\n",
    "\n",
    "A = np.array([[1,1,0,0,0,0,0,0],[0,0,1,1,0,0,0,0],[0,0,0,0,1,1,0,0],[0,0,0,0,0,0,1,1],[1,0,1,0,1,0,1,0],[0,1,0,1,0,1,0,1]])\n",
    "\n",
    "b = np.array([1050,600,950,450,1750,950])"
   ]
  },
  {
   "cell_type": "code",
   "execution_count": 3,
   "metadata": {},
   "outputs": [],
   "source": [
    "# Resolvemos el problema con la función linprog\n",
    "solucion = opt.linprog(c,A,b)"
   ]
  },
  {
   "cell_type": "code",
   "execution_count": 4,
   "metadata": {},
   "outputs": [
    {
     "data": {
      "text/plain": [
       "     con: array([], dtype=float64)\n",
       "     fun: -189500.0\n",
       " message: 'Optimization terminated successfully.'\n",
       "     nit: 8\n",
       "   slack: array([350.,   0.,   0.,   0.,   0.,   0.])\n",
       "  status: 0\n",
       " success: True\n",
       "       x: array([350., 350.,   0., 600., 950.,   0., 450.,   0.])"
      ]
     },
     "execution_count": 4,
     "metadata": {},
     "output_type": "execute_result"
    }
   ],
   "source": [
    "solucion"
   ]
  },
  {
   "cell_type": "code",
   "execution_count": 5,
   "metadata": {},
   "outputs": [
    {
     "data": {
      "text/plain": [
       "array([350., 350.,   0., 600., 950.,   0., 450.,   0.])"
      ]
     },
     "execution_count": 5,
     "metadata": {},
     "output_type": "execute_result"
    }
   ],
   "source": [
    "solucion.x"
   ]
  },
  {
   "cell_type": "code",
   "execution_count": 6,
   "metadata": {},
   "outputs": [],
   "source": [
    "import pandas as pd"
   ]
  },
  {
   "cell_type": "code",
   "execution_count": 7,
   "metadata": {},
   "outputs": [
    {
     "ename": "FileNotFoundError",
     "evalue": "[Errno 2] File b'cementera.csv' does not exist: b'cementera.csv'",
     "output_type": "error",
     "traceback": [
      "\u001b[1;31m---------------------------------------------------------------------------\u001b[0m",
      "\u001b[1;31mFileNotFoundError\u001b[0m                         Traceback (most recent call last)",
      "\u001b[1;32m<ipython-input-7-b268020ce410>\u001b[0m in \u001b[0;36m<module>\u001b[1;34m\u001b[0m\n\u001b[0;32m      1\u001b[0m \u001b[0mfile_name\u001b[0m \u001b[1;33m=\u001b[0m \u001b[1;34m'cementera.csv'\u001b[0m\u001b[1;33m\u001b[0m\u001b[1;33m\u001b[0m\u001b[0m\n\u001b[1;32m----> 2\u001b[1;33m \u001b[0mdata\u001b[0m \u001b[1;33m=\u001b[0m \u001b[0mpd\u001b[0m\u001b[1;33m.\u001b[0m\u001b[0mread_csv\u001b[0m\u001b[1;33m(\u001b[0m\u001b[0mfile_name\u001b[0m\u001b[1;33m)\u001b[0m\u001b[1;33m\u001b[0m\u001b[1;33m\u001b[0m\u001b[0m\n\u001b[0m\u001b[0;32m      3\u001b[0m \u001b[0mdata\u001b[0m\u001b[1;33m\u001b[0m\u001b[1;33m\u001b[0m\u001b[0m\n",
      "\u001b[1;32m~\\Anaconda3\\lib\\site-packages\\pandas\\io\\parsers.py\u001b[0m in \u001b[0;36mparser_f\u001b[1;34m(filepath_or_buffer, sep, delimiter, header, names, index_col, usecols, squeeze, prefix, mangle_dupe_cols, dtype, engine, converters, true_values, false_values, skipinitialspace, skiprows, skipfooter, nrows, na_values, keep_default_na, na_filter, verbose, skip_blank_lines, parse_dates, infer_datetime_format, keep_date_col, date_parser, dayfirst, iterator, chunksize, compression, thousands, decimal, lineterminator, quotechar, quoting, doublequote, escapechar, comment, encoding, dialect, tupleize_cols, error_bad_lines, warn_bad_lines, delim_whitespace, low_memory, memory_map, float_precision)\u001b[0m\n\u001b[0;32m    700\u001b[0m                     skip_blank_lines=skip_blank_lines)\n\u001b[0;32m    701\u001b[0m \u001b[1;33m\u001b[0m\u001b[0m\n\u001b[1;32m--> 702\u001b[1;33m         \u001b[1;32mreturn\u001b[0m \u001b[0m_read\u001b[0m\u001b[1;33m(\u001b[0m\u001b[0mfilepath_or_buffer\u001b[0m\u001b[1;33m,\u001b[0m \u001b[0mkwds\u001b[0m\u001b[1;33m)\u001b[0m\u001b[1;33m\u001b[0m\u001b[1;33m\u001b[0m\u001b[0m\n\u001b[0m\u001b[0;32m    703\u001b[0m \u001b[1;33m\u001b[0m\u001b[0m\n\u001b[0;32m    704\u001b[0m     \u001b[0mparser_f\u001b[0m\u001b[1;33m.\u001b[0m\u001b[0m__name__\u001b[0m \u001b[1;33m=\u001b[0m \u001b[0mname\u001b[0m\u001b[1;33m\u001b[0m\u001b[1;33m\u001b[0m\u001b[0m\n",
      "\u001b[1;32m~\\Anaconda3\\lib\\site-packages\\pandas\\io\\parsers.py\u001b[0m in \u001b[0;36m_read\u001b[1;34m(filepath_or_buffer, kwds)\u001b[0m\n\u001b[0;32m    427\u001b[0m \u001b[1;33m\u001b[0m\u001b[0m\n\u001b[0;32m    428\u001b[0m     \u001b[1;31m# Create the parser.\u001b[0m\u001b[1;33m\u001b[0m\u001b[1;33m\u001b[0m\u001b[1;33m\u001b[0m\u001b[0m\n\u001b[1;32m--> 429\u001b[1;33m     \u001b[0mparser\u001b[0m \u001b[1;33m=\u001b[0m \u001b[0mTextFileReader\u001b[0m\u001b[1;33m(\u001b[0m\u001b[0mfilepath_or_buffer\u001b[0m\u001b[1;33m,\u001b[0m \u001b[1;33m**\u001b[0m\u001b[0mkwds\u001b[0m\u001b[1;33m)\u001b[0m\u001b[1;33m\u001b[0m\u001b[1;33m\u001b[0m\u001b[0m\n\u001b[0m\u001b[0;32m    430\u001b[0m \u001b[1;33m\u001b[0m\u001b[0m\n\u001b[0;32m    431\u001b[0m     \u001b[1;32mif\u001b[0m \u001b[0mchunksize\u001b[0m \u001b[1;32mor\u001b[0m \u001b[0miterator\u001b[0m\u001b[1;33m:\u001b[0m\u001b[1;33m\u001b[0m\u001b[1;33m\u001b[0m\u001b[0m\n",
      "\u001b[1;32m~\\Anaconda3\\lib\\site-packages\\pandas\\io\\parsers.py\u001b[0m in \u001b[0;36m__init__\u001b[1;34m(self, f, engine, **kwds)\u001b[0m\n\u001b[0;32m    893\u001b[0m             \u001b[0mself\u001b[0m\u001b[1;33m.\u001b[0m\u001b[0moptions\u001b[0m\u001b[1;33m[\u001b[0m\u001b[1;34m'has_index_names'\u001b[0m\u001b[1;33m]\u001b[0m \u001b[1;33m=\u001b[0m \u001b[0mkwds\u001b[0m\u001b[1;33m[\u001b[0m\u001b[1;34m'has_index_names'\u001b[0m\u001b[1;33m]\u001b[0m\u001b[1;33m\u001b[0m\u001b[1;33m\u001b[0m\u001b[0m\n\u001b[0;32m    894\u001b[0m \u001b[1;33m\u001b[0m\u001b[0m\n\u001b[1;32m--> 895\u001b[1;33m         \u001b[0mself\u001b[0m\u001b[1;33m.\u001b[0m\u001b[0m_make_engine\u001b[0m\u001b[1;33m(\u001b[0m\u001b[0mself\u001b[0m\u001b[1;33m.\u001b[0m\u001b[0mengine\u001b[0m\u001b[1;33m)\u001b[0m\u001b[1;33m\u001b[0m\u001b[1;33m\u001b[0m\u001b[0m\n\u001b[0m\u001b[0;32m    896\u001b[0m \u001b[1;33m\u001b[0m\u001b[0m\n\u001b[0;32m    897\u001b[0m     \u001b[1;32mdef\u001b[0m \u001b[0mclose\u001b[0m\u001b[1;33m(\u001b[0m\u001b[0mself\u001b[0m\u001b[1;33m)\u001b[0m\u001b[1;33m:\u001b[0m\u001b[1;33m\u001b[0m\u001b[1;33m\u001b[0m\u001b[0m\n",
      "\u001b[1;32m~\\Anaconda3\\lib\\site-packages\\pandas\\io\\parsers.py\u001b[0m in \u001b[0;36m_make_engine\u001b[1;34m(self, engine)\u001b[0m\n\u001b[0;32m   1120\u001b[0m     \u001b[1;32mdef\u001b[0m \u001b[0m_make_engine\u001b[0m\u001b[1;33m(\u001b[0m\u001b[0mself\u001b[0m\u001b[1;33m,\u001b[0m \u001b[0mengine\u001b[0m\u001b[1;33m=\u001b[0m\u001b[1;34m'c'\u001b[0m\u001b[1;33m)\u001b[0m\u001b[1;33m:\u001b[0m\u001b[1;33m\u001b[0m\u001b[1;33m\u001b[0m\u001b[0m\n\u001b[0;32m   1121\u001b[0m         \u001b[1;32mif\u001b[0m \u001b[0mengine\u001b[0m \u001b[1;33m==\u001b[0m \u001b[1;34m'c'\u001b[0m\u001b[1;33m:\u001b[0m\u001b[1;33m\u001b[0m\u001b[1;33m\u001b[0m\u001b[0m\n\u001b[1;32m-> 1122\u001b[1;33m             \u001b[0mself\u001b[0m\u001b[1;33m.\u001b[0m\u001b[0m_engine\u001b[0m \u001b[1;33m=\u001b[0m \u001b[0mCParserWrapper\u001b[0m\u001b[1;33m(\u001b[0m\u001b[0mself\u001b[0m\u001b[1;33m.\u001b[0m\u001b[0mf\u001b[0m\u001b[1;33m,\u001b[0m \u001b[1;33m**\u001b[0m\u001b[0mself\u001b[0m\u001b[1;33m.\u001b[0m\u001b[0moptions\u001b[0m\u001b[1;33m)\u001b[0m\u001b[1;33m\u001b[0m\u001b[1;33m\u001b[0m\u001b[0m\n\u001b[0m\u001b[0;32m   1123\u001b[0m         \u001b[1;32melse\u001b[0m\u001b[1;33m:\u001b[0m\u001b[1;33m\u001b[0m\u001b[1;33m\u001b[0m\u001b[0m\n\u001b[0;32m   1124\u001b[0m             \u001b[1;32mif\u001b[0m \u001b[0mengine\u001b[0m \u001b[1;33m==\u001b[0m \u001b[1;34m'python'\u001b[0m\u001b[1;33m:\u001b[0m\u001b[1;33m\u001b[0m\u001b[1;33m\u001b[0m\u001b[0m\n",
      "\u001b[1;32m~\\Anaconda3\\lib\\site-packages\\pandas\\io\\parsers.py\u001b[0m in \u001b[0;36m__init__\u001b[1;34m(self, src, **kwds)\u001b[0m\n\u001b[0;32m   1851\u001b[0m         \u001b[0mkwds\u001b[0m\u001b[1;33m[\u001b[0m\u001b[1;34m'usecols'\u001b[0m\u001b[1;33m]\u001b[0m \u001b[1;33m=\u001b[0m \u001b[0mself\u001b[0m\u001b[1;33m.\u001b[0m\u001b[0musecols\u001b[0m\u001b[1;33m\u001b[0m\u001b[1;33m\u001b[0m\u001b[0m\n\u001b[0;32m   1852\u001b[0m \u001b[1;33m\u001b[0m\u001b[0m\n\u001b[1;32m-> 1853\u001b[1;33m         \u001b[0mself\u001b[0m\u001b[1;33m.\u001b[0m\u001b[0m_reader\u001b[0m \u001b[1;33m=\u001b[0m \u001b[0mparsers\u001b[0m\u001b[1;33m.\u001b[0m\u001b[0mTextReader\u001b[0m\u001b[1;33m(\u001b[0m\u001b[0msrc\u001b[0m\u001b[1;33m,\u001b[0m \u001b[1;33m**\u001b[0m\u001b[0mkwds\u001b[0m\u001b[1;33m)\u001b[0m\u001b[1;33m\u001b[0m\u001b[1;33m\u001b[0m\u001b[0m\n\u001b[0m\u001b[0;32m   1854\u001b[0m         \u001b[0mself\u001b[0m\u001b[1;33m.\u001b[0m\u001b[0munnamed_cols\u001b[0m \u001b[1;33m=\u001b[0m \u001b[0mself\u001b[0m\u001b[1;33m.\u001b[0m\u001b[0m_reader\u001b[0m\u001b[1;33m.\u001b[0m\u001b[0munnamed_cols\u001b[0m\u001b[1;33m\u001b[0m\u001b[1;33m\u001b[0m\u001b[0m\n\u001b[0;32m   1855\u001b[0m \u001b[1;33m\u001b[0m\u001b[0m\n",
      "\u001b[1;32mpandas/_libs/parsers.pyx\u001b[0m in \u001b[0;36mpandas._libs.parsers.TextReader.__cinit__\u001b[1;34m()\u001b[0m\n",
      "\u001b[1;32mpandas/_libs/parsers.pyx\u001b[0m in \u001b[0;36mpandas._libs.parsers.TextReader._setup_parser_source\u001b[1;34m()\u001b[0m\n",
      "\u001b[1;31mFileNotFoundError\u001b[0m: [Errno 2] File b'cementera.csv' does not exist: b'cementera.csv'"
     ]
    }
   ],
   "source": [
    "file_name = 'cementera.csv'\n",
    "data = pd.read_csv(file_name)\n",
    "data"
   ]
  },
  {
   "cell_type": "markdown",
   "metadata": {},
   "source": [
    "### Conclusión\n",
    "\n",
    "*Ahora podemos concluir que la producción optima de cada clase de cemento por parte de cada plante es de:*\n",
    "\n",
    "- Planta A Clase 1: 350 unidades.\n",
    "- Planta A Clase 2: 350 unidades.\n",
    "\n",
    "\n",
    "- Planta B Clase 1: 0   unidades.\n",
    "- Planta B Clase 2: 600 unidades.\n",
    "\n",
    "\n",
    "- Planta C Clase 1: 950 unidades.\n",
    "- Planta C Clase 2: 0   unidades.\n",
    "\n",
    "\n",
    "- Planta D Clase 1: 450 unidades.\n",
    "- Planta D Clase 2: 0   unidades.\n",
    "\n",
    "\n",
    "*Y a su vez esto cumple con las restricciones de producción*\n",
    "\n",
    "- Total de unidades producidas Planta A :  700 unidades.\n",
    "- Limite de unidades a producir Planta A: 1050 unidades.\n",
    "\n",
    "\n",
    "- Total de unidades producidas Planta B : 600 unidades.\n",
    "- Limite de unidades a producir Planta B: 600 unidades.\n",
    "\n",
    "\n",
    "- Total de unidades producidas Planta C : 950 unidades.\n",
    "- Limite de unidades a producir Planta C: 950 unidades.\n",
    "\n",
    "\n",
    "- Total de unidades producidas Planta D:  450 unidades.\n",
    "- Limite de unidades a producir Planta D: 450 unidades.\n",
    "\n",
    "\n",
    "*Y también con la restricción de demanda*\n",
    "\n",
    "- Total de cemento clase 1 producido por todas las plantas diariamente: 1720 unidades.\n",
    "- Limite de cemento clase 1 a producir diariamente                    : 1750 unidades.\n",
    "\n",
    "\n",
    "- Total de cemento clase 2 producido por todas las plantas diariamente: 950  unidades.\n",
    "- Limite de cemento clase 2 a producir diariamente                    : 950  unidades.\n",
    "\n",
    "*Finalmente con toda esta producción obtuvimos una utilidad total de:*\n",
    "\n",
    "- **$189,500**"
   ]
  }
 ],
 "metadata": {
  "kernelspec": {
   "display_name": "Python 3",
   "language": "python",
   "name": "python3"
  },
  "language_info": {
   "codemirror_mode": {
    "name": "ipython",
    "version": 3
   },
   "file_extension": ".py",
   "mimetype": "text/x-python",
   "name": "python",
   "nbconvert_exporter": "python",
   "pygments_lexer": "ipython3",
   "version": "3.7.3"
  }
 },
 "nbformat": 4,
 "nbformat_minor": 2
}
